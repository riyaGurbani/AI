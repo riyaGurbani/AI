{
  "nbformat": 4,
  "nbformat_minor": 0,
  "metadata": {
    "colab": {
      "name": "BFS using WaterJug.ipynb",
      "provenance": []
    },
    "kernelspec": {
      "name": "python3",
      "display_name": "Python 3"
    },
    "language_info": {
      "name": "python"
    }
  },
  "cells": [
    {
      "cell_type": "code",
      "metadata": {
        "colab": {
          "base_uri": "https://localhost:8080/"
        },
        "id": "xuWIWO5hTPq6",
        "outputId": "11a895af-7784-473d-c787-b43c10d2a176"
      },
      "source": [
        "from collections import deque\n",
        "\n",
        "def BFS(a, b, target):\n",
        "\t\n",
        "\t# Map is used to store the states, every\n",
        "\t# state is hashed to binary value to\n",
        "\t# indicate either that state is visited\n",
        "\t# before or not\n",
        "\tm = {}\n",
        "\tisSolvable = False\n",
        "\tpath = []\n",
        "\t\n",
        "\t# Queue to maintain states\n",
        "\tq = deque()\n",
        "\t\n",
        "\t# Initialing with initial state\n",
        "\tq.append((0, 0))\n",
        "\n",
        "\twhile (len(q) > 0):\n",
        "\t\t\n",
        "\t\t# Current state\n",
        "\t\tu = q.popleft()\n",
        "\n",
        "\t\t#q.pop() #pop off used state\n",
        "\n",
        "\t\t# If this state is already visited\n",
        "\t\tif ((u[0], u[1]) in m):\n",
        "\t\t\tcontinue\n",
        "\n",
        "\t\t# Doesn't met jug constraints\n",
        "\t\tif ((u[0] > a or u[1] > b or\n",
        "\t\t\tu[0] < 0 or u[1] < 0)):\n",
        "\t\t\tcontinue\n",
        "\n",
        "\t\t# Filling the vector for constructing\n",
        "\t\t# the solution path\n",
        "\t\tpath.append([u[0], u[1]])\n",
        "\n",
        "\t\t# Marking current state as visited\n",
        "\t\tm[(u[0], u[1])] = 1\n",
        "\n",
        "\t\t# If we reach solution state, put ans=1\n",
        "\t\tif (u[0] == target or u[1] == target):\n",
        "\t\t\tisSolvable = True\n",
        "\t\t\t\n",
        "\t\t\tif (u[0] == target):\n",
        "\t\t\t\tif (u[1] != 0):\n",
        "\t\t\t\t\t\n",
        "\t\t\t\t\t# Fill final state\n",
        "\t\t\t\t\tpath.append([u[0], 0])\n",
        "\t\t\telse:\n",
        "\t\t\t\tif (u[0] != 0):\n",
        "\n",
        "\t\t\t\t\t# Fill final state\n",
        "\t\t\t\t\tpath.append([0, u[1]])\n",
        "\n",
        "\t\t\t# Print the solution path\n",
        "\t\t\tsz = len(path)\n",
        "\t\t\tfor i in range(sz):\n",
        "\t\t\t\tprint(\"(\", path[i][0], \",\",\n",
        "\t\t\t\t\t\tpath[i][1], \")\")\n",
        "\t\t\tbreak\n",
        "\n",
        "\t\t# If we have not reached final state\n",
        "\t\t# then, start developing intermediate\n",
        "\t\t# states to reach solution state\n",
        "\t\tq.append([u[0], b]) # Fill Jug2\n",
        "\t\tq.append([a, u[1]]) # Fill Jug1\n",
        "\n",
        "\t\tfor ap in range(max(a, b) + 1):\n",
        "\n",
        "\t\t\t# Pour amount ap from Jug2 to Jug1\n",
        "\t\t\tc = u[0] + ap\n",
        "\t\t\td = u[1] - ap\n",
        "\n",
        "\t\t\t# Check if this state is possible or not\n",
        "\t\t\tif (c == a or (d == 0 and d >= 0)):\n",
        "\t\t\t\tq.append([c, d])\n",
        "\n",
        "\t\t\t# Pour amount ap from Jug 1 to Jug2\n",
        "\t\t\tc = u[0] - ap\n",
        "\t\t\td = u[1] + ap\n",
        "\n",
        "\t\t\t# Check if this state is possible or not\n",
        "\t\t\tif ((c == 0 and c >= 0) or d == b):\n",
        "\t\t\t\tq.append([c, d])\n",
        "\t\t\n",
        "\t\t# Empty Jug2\n",
        "\t\tq.append([a, 0])\n",
        "\t\t\n",
        "\t\t# Empty Jug1\n",
        "\t\tq.append([0, b])\n",
        "\n",
        "\t# No, solution exists if ans=0\n",
        "\tif (not isSolvable):\n",
        "\t\tprint (\"No solution\")\n",
        "\n",
        "if __name__ == '__main__':\n",
        "\t\n",
        "\tJug1, Jug2, target = 4, 3, 2\n",
        "\tprint(\"Path from initial state \"\n",
        "\t\t\"to solution state ::\")\n",
        "\t\n",
        "\tBFS(Jug1, Jug2, target)\n",
        "\n"
      ],
      "execution_count": 23,
      "outputs": [
        {
          "output_type": "stream",
          "name": "stdout",
          "text": [
            "Path from initial state to solution state ::\n",
            "( 0 , 0 )\n",
            "( 0 , 3 )\n",
            "( 4 , 0 )\n",
            "( 4 , 3 )\n",
            "( 3 , 0 )\n",
            "( 1 , 3 )\n",
            "( 3 , 3 )\n",
            "( 4 , 2 )\n",
            "( 0 , 2 )\n"
          ]
        }
      ]
    },
    {
      "cell_type": "code",
      "metadata": {
        "id": "9KN2zmNoTSmC"
      },
      "source": [
        ""
      ],
      "execution_count": 25,
      "outputs": []
    },
    {
      "cell_type": "code",
      "metadata": {
        "id": "-96uqLZSWcI0"
      },
      "source": [
        ""
      ],
      "execution_count": null,
      "outputs": []
    }
  ]
}